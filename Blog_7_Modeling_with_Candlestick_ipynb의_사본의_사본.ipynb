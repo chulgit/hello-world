{
  "nbformat": 4,
  "nbformat_minor": 0,
  "metadata": {
    "colab": {
      "name": "Blog_7_Modeling_with_Candlestick.ipynb의 사본의 사본",
      "provenance": [],
      "collapsed_sections": [],
      "include_colab_link": true
    },
    "kernelspec": {
      "name": "python3",
      "display_name": "Python 3"
    },
    "accelerator": "GPU"
  },
  "cells": [
    {
      "cell_type": "markdown",
      "metadata": {
        "id": "view-in-github",
        "colab_type": "text"
      },
      "source": [
        "<a href=\"https://colab.research.google.com/github/chulgit/hello-world/blob/master/Blog_7_Modeling_with_Candlestick_ipynb%EC%9D%98_%EC%82%AC%EB%B3%B8%EC%9D%98_%EC%82%AC%EB%B3%B8.ipynb\" target=\"_parent\"><img src=\"https://colab.research.google.com/assets/colab-badge.svg\" alt=\"Open In Colab\"/></a>"
      ]
    },
    {
      "cell_type": "code",
      "metadata": {
        "id": "lkytbh9rGmu-",
        "colab": {
          "base_uri": "https://localhost:8080/",
          "height": 55
        },
        "outputId": "cfccbf04-11e8-4b20-8a17-035e07e489e6"
      },
      "source": [
        "# 저는 Colab에서 진행하고, 구글 드라이브에 저장되어 있는 데이터를 이용했기 때문에 \n",
        "# 이런식으로 데이터를 불러왔습니다.\n",
        "from google.colab import drive\n",
        "drive.mount('/gdrive/')\n",
        "%cd /gdrive/My Drive/data"
      ],
      "execution_count": null,
      "outputs": [
        {
          "output_type": "stream",
          "text": [
            "Drive already mounted at /gdrive/; to attempt to forcibly remount, call drive.mount(\"/gdrive/\", force_remount=True).\n",
            "/gdrive/My Drive/data\n"
          ],
          "name": "stdout"
        }
      ]
    },
    {
      "cell_type": "markdown",
      "metadata": {
        "id": "hA8uLRSU3l35"
      },
      "source": [
        "### 1. 캔들스틱 차트 그리기"
      ]
    },
    {
      "cell_type": "code",
      "metadata": {
        "id": "xy52UZH4Goda",
        "colab": {
          "base_uri": "https://localhost:8080/",
          "height": 185
        },
        "outputId": "573bed1b-ec15-49bd-f7c5-27839ed07dab"
      },
      "source": [
        "# 캔들스틱 차트를 그리기 위해서 mpl_finance 이용합니다.\n",
        "pip install mpl_finance"
      ],
      "execution_count": null,
      "outputs": [
        {
          "output_type": "stream",
          "text": [
            "Requirement already satisfied: mpl_finance in /usr/local/lib/python3.6/dist-packages (0.10.0)\n",
            "Requirement already satisfied: matplotlib in /usr/local/lib/python3.6/dist-packages (from mpl_finance) (3.1.1)\n",
            "Requirement already satisfied: python-dateutil>=2.1 in /usr/local/lib/python3.6/dist-packages (from matplotlib->mpl_finance) (2.6.1)\n",
            "Requirement already satisfied: pyparsing!=2.0.4,!=2.1.2,!=2.1.6,>=2.0.1 in /usr/local/lib/python3.6/dist-packages (from matplotlib->mpl_finance) (2.4.5)\n",
            "Requirement already satisfied: kiwisolver>=1.0.1 in /usr/local/lib/python3.6/dist-packages (from matplotlib->mpl_finance) (1.1.0)\n",
            "Requirement already satisfied: cycler>=0.10 in /usr/local/lib/python3.6/dist-packages (from matplotlib->mpl_finance) (0.10.0)\n",
            "Requirement already satisfied: numpy>=1.11 in /usr/local/lib/python3.6/dist-packages (from matplotlib->mpl_finance) (1.17.4)\n",
            "Requirement already satisfied: six>=1.5 in /usr/local/lib/python3.6/dist-packages (from python-dateutil>=2.1->matplotlib->mpl_finance) (1.12.0)\n",
            "Requirement already satisfied: setuptools in /usr/local/lib/python3.6/dist-packages (from kiwisolver>=1.0.1->matplotlib->mpl_finance) (41.6.0)\n"
          ],
          "name": "stdout"
        }
      ]
    },
    {
      "cell_type": "code",
      "metadata": {
        "id": "hFbCl1oSGpoc"
      },
      "source": [
        "import os\n",
        "import pandas as pd\n",
        "import numpy as np\n",
        "import matplotlib.pyplot as plt\n",
        "from pathlib import Path\n",
        "\n",
        "from shutil import copyfile, move\n",
        "from mpl_finance import candlestick2_ochl"
      ],
      "execution_count": null,
      "outputs": []
    },
    {
      "cell_type": "code",
      "metadata": {
        "id": "Y_mXR9Y3wHaR"
      },
      "source": [
        "def ohlc2cs(fname, seq_len, dimension):\n",
        "    # python preprocess.py -m ohlc2cs -l 20 -i stockdatas/EWT_testing.csv -t testing\n",
        "    print(\"Converting olhc to candlestick\")\n",
        "    symbol = fname.split('_')[0]\n",
        "    print(symbol)\n",
        "    df = pd.read_csv(fname, names=['Open','High','Low','Close','Volume','Change'])\n",
        "    df.fillna(0)\n",
        "    plt.style.use('dark_background')\n",
        "    df.reset_index(inplace=True)\n",
        "\n",
        "    figs = np.zeros((len(df)-1, dimension, dimension, 3))\n",
        "    labels = []\n",
        "    for i in range(0, len(df)-1):\n",
        "        # ohlc+volume\n",
        "        c = df.ix[i:i + int(seq_len) - 1, :]\n",
        "        c_ = df.ix[i:i + int(seq_len), :]\n",
        "        if len(c) == int(seq_len):\n",
        "            my_dpi = 96\n",
        "            fig = plt.figure(figsize=(dimension / my_dpi,\n",
        "                                      dimension / my_dpi), dpi=my_dpi)\n",
        "            ax1 = fig.add_subplot(1, 1, 1)\n",
        "            candlestick2_ochl(ax1, c['Open'], c['Close'], c['High'],\n",
        "                              c['Low'], width=1,\n",
        "                              colorup='#77d879', colordown='#db3f3f')\n",
        "            ax1.grid(False)\n",
        "            ax1.set_xticklabels([])\n",
        "            ax1.set_yticklabels([])\n",
        "            ax1.xaxis.set_visible(False)\n",
        "            ax1.yaxis.set_visible(False)\n",
        "            ax1.axis('off')\n",
        "\n",
        "            # create the second axis for the volume bar-plot\n",
        "            # Add a seconds axis for the volume overlay\n",
        "          \n",
        "        starting = c_[\"Close\"].iloc[-2]\n",
        "        endvalue = c_[\"Close\"].iloc[-1]\n",
        "        if endvalue > starting :\n",
        "            label = 1\n",
        "        else :\n",
        "            label = 0\n",
        "        labels.append(label)\n",
        "\n",
        "        fig.canvas.draw()\n",
        "        fig_np = np.array(fig.canvas.renderer._renderer)\n",
        "        figs[i] = fig_np[:,:,:3]\n",
        "\n",
        "        plt.close(fig)\n",
        "        # normal length - end\n",
        "\n",
        "    print(\"Converting olhc to candlestik finished.\")\n",
        "    return figs, labels"
      ],
      "execution_count": null,
      "outputs": []
    },
    {
      "cell_type": "code",
      "metadata": {
        "id": "MFNS1FRSxL41"
      },
      "source": [
        ""
      ],
      "execution_count": null,
      "outputs": []
    },
    {
      "cell_type": "code",
      "metadata": {
        "id": "nx7Cz_yYxNA6"
      },
      "source": [
        ""
      ],
      "execution_count": null,
      "outputs": []
    },
    {
      "cell_type": "code",
      "metadata": {
        "id": "k-tvw8R9xNfs"
      },
      "source": [
        ""
      ],
      "execution_count": null,
      "outputs": []
    },
    {
      "cell_type": "code",
      "metadata": {
        "id": "pMOAA34z-OO9",
        "colab": {
          "base_uri": "https://localhost:8080/",
          "height": 521
        },
        "outputId": "f2adcb63-2e84-4867-c793-2e9d9bfdbbca"
      },
      "source": [
        "# 036570 : 엔씨소프트\n",
        "inputs = '036570_from_2010.csv'\n",
        "seq_len = 20\n",
        "dimension = 48\n",
        "\n",
        "figures, labels = ohlc2cs(inputs, seq_len, dimension)"
      ],
      "execution_count": null,
      "outputs": [
        {
          "output_type": "stream",
          "text": [
            "Converting olhc to candlestick\n",
            "036570\n"
          ],
          "name": "stdout"
        },
        {
          "output_type": "stream",
          "text": [
            "/usr/local/lib/python3.6/dist-packages/ipykernel_launcher.py:15: FutureWarning: \n",
            ".ix is deprecated. Please use\n",
            ".loc for label based indexing or\n",
            ".iloc for positional indexing\n",
            "\n",
            "See the documentation here:\n",
            "http://pandas.pydata.org/pandas-docs/stable/user_guide/indexing.html#ix-indexer-is-deprecated\n",
            "  from ipykernel import kernelapp as app\n",
            "/usr/local/lib/python3.6/dist-packages/pandas/core/indexing.py:822: FutureWarning: \n",
            ".ix is deprecated. Please use\n",
            ".loc for label based indexing or\n",
            ".iloc for positional indexing\n",
            "\n",
            "See the documentation here:\n",
            "http://pandas.pydata.org/pandas-docs/stable/user_guide/indexing.html#ix-indexer-is-deprecated\n",
            "  retval = getattr(retval, self.name)._getitem_axis(key, axis=i)\n",
            "/usr/local/lib/python3.6/dist-packages/ipykernel_launcher.py:16: FutureWarning: \n",
            ".ix is deprecated. Please use\n",
            ".loc for label based indexing or\n",
            ".iloc for positional indexing\n",
            "\n",
            "See the documentation here:\n",
            "http://pandas.pydata.org/pandas-docs/stable/user_guide/indexing.html#ix-indexer-is-deprecated\n",
            "  app.launch_new_instance()\n"
          ],
          "name": "stderr"
        },
        {
          "output_type": "stream",
          "text": [
            "Converting olhc to candlestik finished.\n"
          ],
          "name": "stdout"
        }
      ]
    },
    {
      "cell_type": "code",
      "metadata": {
        "id": "vnTrIBYYCJm5",
        "colab": {
          "base_uri": "https://localhost:8080/",
          "height": 36
        },
        "outputId": "f17301c1-6e2f-4f7d-a94a-bc9178340bf1"
      },
      "source": [
        "#위 함수로 생성된 figures는 값의 범위가 0~255 이기 때문에 0~1로 맞춰주기 위해 255로 나눕니다.\n",
        "figures = figures/255.0\n",
        "print(np.shape(labels), np.shape(figures))"
      ],
      "execution_count": null,
      "outputs": [
        {
          "output_type": "stream",
          "text": [
            "(2219,) (2219, 48, 48, 3)\n"
          ],
          "name": "stdout"
        }
      ]
    },
    {
      "cell_type": "markdown",
      "metadata": {
        "id": "_XCJdcgr3pyS"
      },
      "source": [
        "### 2. 데이터 Generator 생성"
      ]
    },
    {
      "cell_type": "code",
      "metadata": {
        "id": "n8kY3uc9CQWS"
      },
      "source": [
        "def single_stock_generator(chart, labels, batch_size) :\n",
        "    #output [chart, labels]\n",
        "    while True :\n",
        "        stock_batch = np.zeros(shape=(batch_size, dimension, dimension, 3))\n",
        "        label_batch = np.zeros(shape=(batch_size, ))\n",
        "        for i in range(batch_size) :\n",
        "            idx = np.random.randint(len(labels))\n",
        "            stock_batch[i] = chart[idx]\n",
        "            label_batch[i] = labels[idx]\n",
        "\n",
        "        yield stock_batch, label_batch\n"
      ],
      "execution_count": null,
      "outputs": []
    },
    {
      "cell_type": "code",
      "metadata": {
        "id": "8w3gz_EbKXL9"
      },
      "source": [
        "train_len = 1500\n",
        "batch_size = 16\n",
        "train_gen = single_stock_generator(figures[:train_len], labels[:train_len], batch_size)\n",
        "test_gen = single_stock_generator(figures[train_len:], labels[train_len:], batch_size)\n"
      ],
      "execution_count": null,
      "outputs": []
    },
    {
      "cell_type": "code",
      "metadata": {
        "id": "dWW6GkewFdZc",
        "colab": {
          "base_uri": "https://localhost:8080/",
          "height": 55
        },
        "outputId": "29f345b0-5b56-427c-b2ef-36c5bcdf65bb"
      },
      "source": [
        "tmp_data = next(train_gen)\n",
        "print(\"Chart image shape : \",np.shape(tmp_data[0]))\n",
        "print(\"Label shape :\",np.shape(tmp_data[1]))"
      ],
      "execution_count": null,
      "outputs": [
        {
          "output_type": "stream",
          "text": [
            "Chart image shape :  (16, 48, 48, 3)\n",
            "Label shape : (16,)\n"
          ],
          "name": "stdout"
        }
      ]
    },
    {
      "cell_type": "code",
      "metadata": {
        "id": "kVlHJlfiGq3J"
      },
      "source": [
        "# 만들어진 차트 이미지 중 하나를 예시로 그려보겠습니다.\n",
        "import matplotlib as mpl\n",
        "import matplotlib.pylab as plt\n",
        "%matplotlib inline"
      ],
      "execution_count": null,
      "outputs": []
    },
    {
      "cell_type": "code",
      "metadata": {
        "id": "ZY_qWvJsJxUN",
        "colab": {
          "base_uri": "https://localhost:8080/",
          "height": 267
        },
        "outputId": "4a74967e-ed3b-4e59-c7d8-74699f152943"
      },
      "source": [
        "plt.figure()\n",
        "plt.imshow(tmp_data[0][0][:,:,:])\n",
        "plt.show()"
      ],
      "execution_count": null,
      "outputs": [
        {
          "output_type": "display_data",
          "data": {
            "image/png": "[encoded data removed]",
            "text/plain": [
              "<Figure size 432x288 with 1 Axes>"
            ]
          },
          "metadata": {
            "tags": []
          }
        }
      ]
    },
    {
      "cell_type": "markdown",
      "metadata": {
        "id": "VloUtZ3C3uCU"
      },
      "source": [
        "### 3. 모델 작성"
      ]
    },
    {
      "cell_type": "code",
      "metadata": {
        "id": "ZHdqEAYGLypi"
      },
      "source": [
        "!pip install -q tensorflow-gpu==2.0.0-rc1\n",
        "import tensorflow as tf"
      ],
      "execution_count": null,
      "outputs": []
    },
    {
      "cell_type": "code",
      "metadata": {
        "id": "JnF1YxnBNHw7"
      },
      "source": [
        "# Keras의 Functional APi를 이용할 거라서 불러와줍니다.\n",
        "from tensorflow import keras\n",
        "from tensorflow.keras import layers"
      ],
      "execution_count": null,
      "outputs": []
    },
    {
      "cell_type": "code",
      "metadata": {
        "id": "3C1JEg1GK8Tb"
      },
      "source": [
        "# 첫번째 시도할 구조는 논문에서 제시한 CNN 구조\n",
        "# CNN의 filter size, dropout rate, padding 등은 언급이 안되어 있어서 임의로 넣음"
      ],
      "execution_count": null,
      "outputs": []
    },
    {
      "cell_type": "code",
      "metadata": {
        "id": "F_256N6aMHBo",
        "colab": {
          "base_uri": "https://localhost:8080/",
          "height": 727
        },
        "outputId": "3acac45c-3bf5-4633-87c6-f1515b013d3a"
      },
      "source": [
        "inputs = keras.Input(shape=(48, 48, 3))\n",
        "x = inputs\n",
        "x = layers.Conv2D(32, 3, activation='relu', padding=\"same\")(x)\n",
        "x = layers.MaxPooling2D(2)(x)\n",
        "x = layers.Conv2D(48, 3, activation='relu', padding=\"same\")(x)\n",
        "x = layers.MaxPooling2D(2)(x)\n",
        "x = layers.Dropout(rate=0.5)(x)\n",
        "x = layers.Conv2D(64, 3, activation='relu', padding=\"same\")(x)\n",
        "x = layers.MaxPooling2D(2)(x)\n",
        "x = layers.Conv2D(96, 3, activation='relu', padding=\"same\")(x)\n",
        "x = layers.MaxPooling2D(2)(x)\n",
        "x = layers.Dropout(rate=0.5)(x)\n",
        "x = layers.Flatten()(x)\n",
        "x = layers.Dense(256, activation='relu')(x)\n",
        "x = layers.Dropout(rate=0.5)(x)\n",
        "x = layers.Dense(1, activation='sigmoid')(x)\n",
        "outputs = x\n",
        "\n",
        "model = keras.Model(inputs, outputs)\n",
        "model.summary()"
      ],
      "execution_count": null,
      "outputs": [
        {
          "output_type": "stream",
          "text": [
            "Model: \"model_15\"\n",
            "_________________________________________________________________\n",
            "Layer (type)                 Output Shape              Param #   \n",
            "=================================================================\n",
            "input_16 (InputLayer)        [(None, 48, 48, 3)]       0         \n",
            "_________________________________________________________________\n",
            "conv2d_66 (Conv2D)           (None, 48, 48, 32)        896       \n",
            "_________________________________________________________________\n",
            "max_pooling2d_59 (MaxPooling (None, 24, 24, 32)        0         \n",
            "_________________________________________________________________\n",
            "conv2d_67 (Conv2D)           (None, 24, 24, 48)        13872     \n",
            "_________________________________________________________________\n",
            "max_pooling2d_60 (MaxPooling (None, 12, 12, 48)        0         \n",
            "_________________________________________________________________\n",
            "dropout_33 (Dropout)         (None, 12, 12, 48)        0         \n",
            "_________________________________________________________________\n",
            "conv2d_68 (Conv2D)           (None, 12, 12, 64)        27712     \n",
            "_________________________________________________________________\n",
            "max_pooling2d_61 (MaxPooling (None, 6, 6, 64)          0         \n",
            "_________________________________________________________________\n",
            "conv2d_69 (Conv2D)           (None, 6, 6, 96)          55392     \n",
            "_________________________________________________________________\n",
            "max_pooling2d_62 (MaxPooling (None, 3, 3, 96)          0         \n",
            "_________________________________________________________________\n",
            "dropout_34 (Dropout)         (None, 3, 3, 96)          0         \n",
            "_________________________________________________________________\n",
            "flatten_27 (Flatten)         (None, 864)               0         \n",
            "_________________________________________________________________\n",
            "dense_30 (Dense)             (None, 256)               221440    \n",
            "_________________________________________________________________\n",
            "dropout_35 (Dropout)         (None, 256)               0         \n",
            "_________________________________________________________________\n",
            "dense_31 (Dense)             (None, 1)                 257       \n",
            "=================================================================\n",
            "Total params: 319,569\n",
            "Trainable params: 319,569\n",
            "Non-trainable params: 0\n",
            "_________________________________________________________________\n"
          ],
          "name": "stdout"
        }
      ]
    },
    {
      "cell_type": "code",
      "metadata": {
        "id": "f9oB_GlEQ-ZT"
      },
      "source": [
        "num_iters = train_len // batch_size\n",
        "num_epochs = 10"
      ],
      "execution_count": null,
      "outputs": []
    },
    {
      "cell_type": "code",
      "metadata": {
        "id": "PL2kAmBNM-fX"
      },
      "source": [
        "def train_step(train_data_gen, test_data_gen, model) :\n",
        "    optimizer = tf.keras.optimizers.Adam(0.0001)\n",
        "    model = model\n",
        "    loss_fn = tf.keras.losses.BinaryCrossentropy()\n",
        "    num_test_iters = num_iters // 4\n",
        "    for epoch in range(num_epochs) :\n",
        "        epoch_loss_avg = tf.keras.metrics.Mean()\n",
        "        val_loss_avg = tf.keras.metrics.Mean()\n",
        "\n",
        "        for iter in range(num_iters) :\n",
        "            x_batch, y_batch = next(train_data_gen)\n",
        "            with tf.GradientTape() as tape :\n",
        "                y_ = model(x_batch)\n",
        "                loss_value = loss_fn(y_batch, y_)\n",
        "                grads = tape.gradient(loss_value, model.trainable_variables)            \n",
        "            optimizer.apply_gradients(zip(grads, model.trainable_variables))\n",
        "            epoch_loss_avg(loss_value)\n",
        "        \n",
        "        for iter in range(num_test_iters) :\n",
        "            x_batch, y_batch = next(test_data_gen)\n",
        "            y_ = model(x_batch)\n",
        "            loss_value = loss_fn(y_batch, y_)\n",
        "            val_loss_avg(loss_value)\n",
        "        \n",
        "\n",
        "        \n",
        "        print(\"Epoch {:03d}: , Train Loss: {:.5f}\".format(epoch, epoch_loss_avg.result()))\n",
        "        print(\"Val_Loss: {:.3f}\".format(val_loss_avg.result()))\n"
      ],
      "execution_count": null,
      "outputs": []
    },
    {
      "cell_type": "code",
      "metadata": {
        "id": "GpsimfxUQLzC",
        "colab": {
          "base_uri": "https://localhost:8080/",
          "height": 391
        },
        "outputId": "9599bd63-0ea3-4018-c77f-43bb8df6b434"
      },
      "source": [
        "train_step(train_gen, test_gen, model)"
      ],
      "execution_count": null,
      "outputs": [
        {
          "output_type": "stream",
          "text": [
            "Epoch 000: , Train Loss: 0.69078\n",
            "Val_Loss: 0.697\n",
            "Epoch 001: , Train Loss: 0.69190\n",
            "Val_Loss: 0.701\n",
            "Epoch 002: , Train Loss: 0.69189\n",
            "Val_Loss: 0.693\n",
            "Epoch 003: , Train Loss: 0.69279\n",
            "Val_Loss: 0.693\n",
            "Epoch 004: , Train Loss: 0.69222\n",
            "Val_Loss: 0.696\n",
            "Epoch 005: , Train Loss: 0.69333\n",
            "Val_Loss: 0.695\n",
            "Epoch 006: , Train Loss: 0.69185\n",
            "Val_Loss: 0.699\n",
            "Epoch 007: , Train Loss: 0.69222\n",
            "Val_Loss: 0.693\n",
            "Epoch 008: , Train Loss: 0.69112\n",
            "Val_Loss: 0.696\n",
            "Epoch 009: , Train Loss: 0.69273\n",
            "Val_Loss: 0.691\n"
          ],
          "name": "stdout"
        }
      ]
    },
    {
      "cell_type": "code",
      "metadata": {
        "id": "8E1i50u-RHt1",
        "colab": {
          "base_uri": "https://localhost:8080/",
          "height": 167
        },
        "outputId": "e9252de9-482b-4488-dc76-770d5abfa23d"
      },
      "source": [
        "y_"
      ],
      "execution_count": null,
      "outputs": [
        {
          "output_type": "execute_result",
          "data": {
            "text/plain": [
              "<tf.Tensor: id=5683842, shape=(2219, 1), dtype=float32, numpy=\n",
              "array([[0.4786848 ],\n",
              "       [0.47747847],\n",
              "       [0.4801753 ],\n",
              "       ...,\n",
              "       [0.47713557],\n",
              "       [0.47713557],\n",
              "       [0.47713557]], dtype=float32)>"
            ]
          },
          "metadata": {
            "tags": []
          },
          "execution_count": 217
        }
      ]
    },
    {
      "cell_type": "code",
      "metadata": {
        "id": "Lnv53O5TYPao",
        "colab": {
          "base_uri": "https://localhost:8080/",
          "height": 652
        },
        "outputId": "81d6aa68-0ff2-4165-94aa-8a0b42e60bdf"
      },
      "source": [
        "inputs = keras.Input(shape=(48, 48, 3))\n",
        "x = inputs\n",
        "x = layers.Conv2D(32, 3, activation='relu', padding=\"same\")(x)\n",
        "x = layers.MaxPooling2D(2)(x)\n",
        "x = layers.Conv2D(48, 3, activation='relu', padding=\"same\")(x)\n",
        "x = layers.MaxPooling2D(2)(x)\n",
        "x = layers.Conv2D(64, 3, activation='relu', padding=\"same\")(x)\n",
        "x = layers.MaxPooling2D(2)(x)\n",
        "x = layers.Conv2D(96, 3, activation='relu', padding=\"same\")(x)\n",
        "x = layers.MaxPooling2D(2)(x)\n",
        "x = layers.Flatten()(x)\n",
        "x = layers.Dense(256)(x)\n",
        "x = layers.Flatten()(x)\n",
        "x = layers.Dense(1, activation='sigmoid')(x)\n",
        "outputs = x\n",
        "\n",
        "model = keras.Model(inputs, outputs)\n",
        "model.summary()"
      ],
      "execution_count": null,
      "outputs": [
        {
          "output_type": "stream",
          "text": [
            "Model: \"model_16\"\n",
            "_________________________________________________________________\n",
            "Layer (type)                 Output Shape              Param #   \n",
            "=================================================================\n",
            "input_17 (InputLayer)        [(None, 48, 48, 3)]       0         \n",
            "_________________________________________________________________\n",
            "conv2d_70 (Conv2D)           (None, 48, 48, 32)        896       \n",
            "_________________________________________________________________\n",
            "max_pooling2d_63 (MaxPooling (None, 24, 24, 32)        0         \n",
            "_________________________________________________________________\n",
            "conv2d_71 (Conv2D)           (None, 24, 24, 48)        13872     \n",
            "_________________________________________________________________\n",
            "max_pooling2d_64 (MaxPooling (None, 12, 12, 48)        0         \n",
            "_________________________________________________________________\n",
            "conv2d_72 (Conv2D)           (None, 12, 12, 64)        27712     \n",
            "_________________________________________________________________\n",
            "max_pooling2d_65 (MaxPooling (None, 6, 6, 64)          0         \n",
            "_________________________________________________________________\n",
            "conv2d_73 (Conv2D)           (None, 6, 6, 96)          55392     \n",
            "_________________________________________________________________\n",
            "max_pooling2d_66 (MaxPooling (None, 3, 3, 96)          0         \n",
            "_________________________________________________________________\n",
            "flatten_28 (Flatten)         (None, 864)               0         \n",
            "_________________________________________________________________\n",
            "dense_32 (Dense)             (None, 256)               221440    \n",
            "_________________________________________________________________\n",
            "flatten_29 (Flatten)         (None, 256)               0         \n",
            "_________________________________________________________________\n",
            "dense_33 (Dense)             (None, 1)                 257       \n",
            "=================================================================\n",
            "Total params: 319,569\n",
            "Trainable params: 319,569\n",
            "Non-trainable params: 0\n",
            "_________________________________________________________________\n"
          ],
          "name": "stdout"
        }
      ]
    },
    {
      "cell_type": "code",
      "metadata": {
        "id": "obQKrQNsZKvD",
        "colab": {
          "base_uri": "https://localhost:8080/",
          "height": 523
        },
        "outputId": "fb32c9c8-99b9-4655-a2ff-3239b0b8435d"
      },
      "source": [
        "train_step(train_gen, test_gen, model)\n"
      ],
      "execution_count": null,
      "outputs": [
        {
          "output_type": "stream",
          "text": [
            "WARNING:tensorflow:Layer conv2d_70 is casting an input tensor from dtype float64 to the layer's dtype of float32, which is new behavior in TensorFlow 2.  The layer has dtype float32 because it's dtype defaults to floatx.\n",
            "\n",
            "If you intended to run this layer in float32, you can safely ignore this warning. If in doubt, this warning is likely only an issue if you are porting a TensorFlow 1.X model to TensorFlow 2.\n",
            "\n",
            "To change all layers to have dtype float64 by default, call `tf.keras.backend.set_floatx('float64')`. To change just this layer, pass dtype='float64' to the layer constructor. If you are the author of this layer, you can disable autocasting by passing autocast=False to the base Layer constructor.\n",
            "\n",
            "Epoch 000: , Train Loss: 0.69291\n",
            "Val_Loss: 0.692\n",
            "Epoch 001: , Train Loss: 0.69183\n",
            "Val_Loss: 0.698\n",
            "Epoch 002: , Train Loss: 0.68997\n",
            "Val_Loss: 0.710\n",
            "Epoch 003: , Train Loss: 0.69299\n",
            "Val_Loss: 0.699\n",
            "Epoch 004: , Train Loss: 0.69032\n",
            "Val_Loss: 0.692\n",
            "Epoch 005: , Train Loss: 0.69190\n",
            "Val_Loss: 0.693\n",
            "Epoch 006: , Train Loss: 0.69220\n",
            "Val_Loss: 0.696\n",
            "Epoch 007: , Train Loss: 0.69304\n",
            "Val_Loss: 0.693\n",
            "Epoch 008: , Train Loss: 0.69274\n",
            "Val_Loss: 0.696\n",
            "Epoch 009: , Train Loss: 0.69194\n",
            "Val_Loss: 0.691\n"
          ],
          "name": "stdout"
        }
      ]
    },
    {
      "cell_type": "code",
      "metadata": {
        "id": "lEZ6foWsZPaM",
        "colab": {
          "base_uri": "https://localhost:8080/",
          "height": 167
        },
        "outputId": "cc17d0a1-7d46-4bdf-ff57-3f7db0f0b529"
      },
      "source": [
        "y_"
      ],
      "execution_count": null,
      "outputs": [
        {
          "output_type": "execute_result",
          "data": {
            "text/plain": [
              "<tf.Tensor: id=5683842, shape=(2219, 1), dtype=float32, numpy=\n",
              "array([[0.4786848 ],\n",
              "       [0.47747847],\n",
              "       [0.4801753 ],\n",
              "       ...,\n",
              "       [0.47713557],\n",
              "       [0.47713557],\n",
              "       [0.47713557]], dtype=float32)>"
            ]
          },
          "metadata": {
            "tags": []
          },
          "execution_count": 220
        }
      ]
    },
    {
      "cell_type": "code",
      "metadata": {
        "id": "NGtOB37CZS4d",
        "colab": {
          "base_uri": "https://localhost:8080/",
          "height": 801
        },
        "outputId": "e9a337ba-547d-4758-b03b-76c9679aed8a"
      },
      "source": [
        "inputs = keras.Input(shape=(48, 48, 3))\n",
        "x = inputs\n",
        "x = layers.Conv2D(32, 3, activation='relu', padding=\"same\")(x)\n",
        "x = layers.Conv2D(32, 3, activation='relu', padding=\"same\")(x)\n",
        "x = layers.MaxPooling2D(2)(x)\n",
        "x = layers.Conv2D(64, 3, activation='relu', padding=\"same\")(x)\n",
        "x = layers.Conv2D(64, 3, activation='relu', padding=\"same\")(x)\n",
        "x = layers.MaxPooling2D(2)(x)\n",
        "x = layers.Conv2D(128, 3, activation='relu', padding=\"same\")(x)\n",
        "x = layers.Conv2D(128, 3, activation='relu', padding=\"same\")(x)\n",
        "x = layers.MaxPooling2D(2)(x)\n",
        "x = layers.Conv2D(256, 3, activation='relu', padding=\"same\")(x)\n",
        "x = layers.Conv2D(256, 3, activation='relu', padding=\"same\")(x)\n",
        "x = layers.MaxPooling2D(2)(x)\n",
        "x = layers.Flatten()(x)\n",
        "x = layers.Dense(256)(x)\n",
        "x = layers.Flatten()(x)\n",
        "x = layers.Dense(1, activation='sigmoid')(x)\n",
        "outputs = x\n",
        "\n",
        "model = keras.Model(inputs, outputs)\n",
        "model.summary()"
      ],
      "execution_count": null,
      "outputs": [
        {
          "output_type": "stream",
          "text": [
            "Model: \"model_11\"\n",
            "_________________________________________________________________\n",
            "Layer (type)                 Output Shape              Param #   \n",
            "=================================================================\n",
            "input_12 (InputLayer)        [(None, 48, 48, 3)]       0         \n",
            "_________________________________________________________________\n",
            "conv2d_46 (Conv2D)           (None, 48, 48, 32)        896       \n",
            "_________________________________________________________________\n",
            "conv2d_47 (Conv2D)           (None, 48, 48, 32)        9248      \n",
            "_________________________________________________________________\n",
            "max_pooling2d_43 (MaxPooling (None, 24, 24, 32)        0         \n",
            "_________________________________________________________________\n",
            "conv2d_48 (Conv2D)           (None, 24, 24, 64)        18496     \n",
            "_________________________________________________________________\n",
            "conv2d_49 (Conv2D)           (None, 24, 24, 64)        36928     \n",
            "_________________________________________________________________\n",
            "max_pooling2d_44 (MaxPooling (None, 12, 12, 64)        0         \n",
            "_________________________________________________________________\n",
            "conv2d_50 (Conv2D)           (None, 12, 12, 128)       73856     \n",
            "_________________________________________________________________\n",
            "conv2d_51 (Conv2D)           (None, 12, 12, 128)       147584    \n",
            "_________________________________________________________________\n",
            "max_pooling2d_45 (MaxPooling (None, 6, 6, 128)         0         \n",
            "_________________________________________________________________\n",
            "conv2d_52 (Conv2D)           (None, 6, 6, 256)         295168    \n",
            "_________________________________________________________________\n",
            "conv2d_53 (Conv2D)           (None, 6, 6, 256)         590080    \n",
            "_________________________________________________________________\n",
            "max_pooling2d_46 (MaxPooling (None, 3, 3, 256)         0         \n",
            "_________________________________________________________________\n",
            "flatten_22 (Flatten)         (None, 2304)              0         \n",
            "_________________________________________________________________\n",
            "dense_22 (Dense)             (None, 256)               590080    \n",
            "_________________________________________________________________\n",
            "flatten_23 (Flatten)         (None, 256)               0         \n",
            "_________________________________________________________________\n",
            "dense_23 (Dense)             (None, 1)                 257       \n",
            "=================================================================\n",
            "Total params: 1,762,593\n",
            "Trainable params: 1,762,593\n",
            "Non-trainable params: 0\n",
            "_________________________________________________________________\n"
          ],
          "name": "stdout"
        }
      ]
    },
    {
      "cell_type": "code",
      "metadata": {
        "id": "es24beexaEIt",
        "colab": {
          "base_uri": "https://localhost:8080/",
          "height": 709
        },
        "outputId": "e5aca133-816a-4d0d-c13f-c37c9d453224"
      },
      "source": [
        "train_step(train_gen, test_gen, model)\n"
      ],
      "execution_count": null,
      "outputs": [
        {
          "output_type": "stream",
          "text": [
            "WARNING:tensorflow:Layer conv2d_46 is casting an input tensor from dtype float64 to the layer's dtype of float32, which is new behavior in TensorFlow 2.  The layer has dtype float32 because it's dtype defaults to floatx.\n",
            "\n",
            "If you intended to run this layer in float32, you can safely ignore this warning. If in doubt, this warning is likely only an issue if you are porting a TensorFlow 1.X model to TensorFlow 2.\n",
            "\n",
            "To change all layers to have dtype float64 by default, call `tf.keras.backend.set_floatx('float64')`. To change just this layer, pass dtype='float64' to the layer constructor. If you are the author of this layer, you can disable autocasting by passing autocast=False to the base Layer constructor.\n",
            "\n",
            "Epoch 000: , Train Loss: 0.69313\n",
            "Val_Loss: 0.694\n",
            "Epoch 001: , Train Loss: 0.68940\n",
            "Val_Loss: 0.695\n",
            "Epoch 002: , Train Loss: 0.69376\n",
            "Val_Loss: 0.698\n",
            "Epoch 003: , Train Loss: 0.69253\n",
            "Val_Loss: 0.695\n",
            "Epoch 004: , Train Loss: 0.69272\n",
            "Val_Loss: 0.704\n",
            "Epoch 005: , Train Loss: 0.69105\n",
            "Val_Loss: 0.700\n",
            "Epoch 006: , Train Loss: 0.69040\n",
            "Val_Loss: 0.700\n",
            "Epoch 007: , Train Loss: 0.69344\n",
            "Val_Loss: 0.694\n",
            "Epoch 008: , Train Loss: 0.69110\n",
            "Val_Loss: 0.697\n",
            "Epoch 009: , Train Loss: 0.69054\n",
            "Val_Loss: 0.699\n",
            "Epoch 010: , Train Loss: 0.69327\n",
            "Val_Loss: 0.696\n",
            "Epoch 011: , Train Loss: 0.69203\n",
            "Val_Loss: 0.693\n",
            "Epoch 012: , Train Loss: 0.69119\n",
            "Val_Loss: 0.706\n",
            "Epoch 013: , Train Loss: 0.69134\n",
            "Val_Loss: 0.688\n",
            "Epoch 014: , Train Loss: 0.69140\n",
            "Val_Loss: 0.692\n"
          ],
          "name": "stdout"
        }
      ]
    },
    {
      "cell_type": "code",
      "metadata": {
        "id": "sjZBUjWGaGKT",
        "colab": {
          "base_uri": "https://localhost:8080/",
          "height": 167
        },
        "outputId": "ce353c59-d48d-4c25-83ac-ffde2005716c"
      },
      "source": [
        "y_ = model(x_batch)\n",
        "y_"
      ],
      "execution_count": null,
      "outputs": [
        {
          "output_type": "execute_result",
          "data": {
            "text/plain": [
              "<tf.Tensor: id=4077524, shape=(2219, 1), dtype=float32, numpy=\n",
              "array([[0.47132692],\n",
              "       [0.47132692],\n",
              "       [0.47132692],\n",
              "       ...,\n",
              "       [0.4713269 ],\n",
              "       [0.4713269 ],\n",
              "       [0.4713269 ]], dtype=float32)>"
            ]
          },
          "metadata": {
            "tags": []
          },
          "execution_count": 170
        }
      ]
    },
    {
      "cell_type": "code",
      "metadata": {
        "id": "pi0tRazHaQfK"
      },
      "source": [
        ""
      ],
      "execution_count": null,
      "outputs": []
    }
  ]
}